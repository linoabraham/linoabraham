{
  "nbformat": 4,
  "nbformat_minor": 0,
  "metadata": {
    "colab": {
      "name": "Untitled0.ipynb",
      "provenance": [],
      "authorship_tag": "ABX9TyO7YFo5XyoKRZTHKbnbPLCb",
      "include_colab_link": true
    },
    "kernelspec": {
      "name": "python3",
      "display_name": "Python 3"
    },
    "language_info": {
      "name": "python"
    }
  },
  "cells": [
    {
      "cell_type": "markdown",
      "metadata": {
        "id": "view-in-github",
        "colab_type": "text"
      },
      "source": [
        "<a href=\"https://colab.research.google.com/github/linoabraham/linoabraham/blob/main/TareaDELJUEGO.ipynb\" target=\"_parent\"><img src=\"https://colab.research.google.com/assets/colab-badge.svg\" alt=\"Open In Colab\"/></a>"
      ]
    },
    {
      "cell_type": "code",
      "metadata": {
        "id": "lDPd2OIyFZTO"
      },
      "source": [
        ""
      ],
      "execution_count": null,
      "outputs": []
    },
    {
      "cell_type": "code",
      "metadata": {
        "id": "-zquMQ860czo"
      },
      "source": [
        "%%writefile tarea3.cpp"
      ],
      "execution_count": null,
      "outputs": []
    },
    {
      "cell_type": "code",
      "metadata": {
        "id": "EPHCEpXXFubE"
      },
      "source": [
        "#pragma once\n",
        "#ifndef __ARREGLODESECHOS__HPP__\n",
        "#define __ARREGLODESECHOS__HPP__\n",
        "#include \"DesechoP.hpp\"\n",
        "#include \"DesechoSegundo.hpp\"\n",
        "#include \"DesechoTercero.hpp\"\n",
        "template <class T>\n",
        "class ArrDesechos\n",
        "{\n",
        "public:\n",
        "\tArrDesechos();\n",
        "\t~ArrDesechos();\n",
        "\tT getDesecho(int);\n",
        "\tint getSize();\n",
        "\tbool Colision(Rectangle); //implementacion incopatible con template\n",
        "\tint getCant();\n",
        "\tvoid setCant(int);//implementacion incopatible con template\n",
        "\tvoid Agregar(T);\n",
        "\tvoid Eliminar(int);\n",
        "\tint getX(int);//implementacion incopatible con template\n",
        "\tint getY(int);//implementacion incopatible con template\n",
        "\tMostrar(Graphics^, Bitmap^);//implementacion incopatible con template\n",
        "\tEliminarDesechosCantidad(Rectangle);//implementacion incopatible con template\n",
        "private:\n",
        "\tT* desechos;\n",
        "\tint cant;\n",
        "};\n",
        "template <class T>\n",
        "ArrDesechos<T>::ArrDesechos()\n",
        "{\n",
        "\tcant = 0;\n",
        "}\n",
        "template <class T>\n",
        "ArrDesechos<T>::~ArrDesechos()\n",
        "{\n",
        "\tfor (int i = 0; i < cant; i++)\n",
        "\t{\n",
        "\t\tdelete desechos[i];\n",
        "\t}\n",
        "}\n",
        "template <class T>\n",
        "T ArrDesechos<T>::getDesecho(int pos)\n",
        "{\n",
        "\treturn desechos[pos];\n",
        "}\n",
        "template <class T>\n",
        "int\tArrDesechos<T>::getSize()\n",
        "{\n",
        "\treturn cant;\n",
        "}\n",
        "\n",
        "template <class T>\n",
        "int ArrDesechos<T>::getCant()\n",
        "{\n",
        "\treturn cant;\n",
        "}\n",
        "\n",
        "\n",
        "template <class T>\n",
        "void ArrDesechos<T>::Agregar(T obj)\n",
        "{\n",
        "\tT* aux = new T[cant + 1];\n",
        "\tfor (int i = 0; i < cant; i++) {\n",
        "\t\taux[i] = desechos[i];\n",
        "\t}\n",
        "\taux[cant] = obj;\n",
        "\tcant++;\n",
        "\tdelete[] desechos;\n",
        "\tdesechos = aux;\n",
        "\taux = nullptr;\n",
        "\tdelete aux;\n",
        "}\n",
        "template <class T>\n",
        "void ArrDesechos<T>::Eliminar(int pos)\n",
        "{\n",
        "\tT* aux = new T[cant - 1];\n",
        "\tfor (int i = 0; i < cant - 1; i++) {\n",
        "\t\tif (i < pos)aux[i] = desechos[i];\n",
        "\t\telse aux[i] = desechos[i + 1];\n",
        "\t}\n",
        "\tdelete[] desechos;\n",
        "\tdesechos = aux;\n",
        "\taux = nullptr;\n",
        "\tdelete aux;\n",
        "\tcant--;\n",
        "}\n",
        "\n",
        "\n",
        "#endif // !__ARREGLODESECHOS__HPP__\n"
      ],
      "execution_count": null,
      "outputs": []
    },
    {
      "cell_type": "code",
      "metadata": {
        "id": "4Za1u9qqFx_G"
      },
      "source": [
        ""
      ],
      "execution_count": null,
      "outputs": []
    }
  ]
}